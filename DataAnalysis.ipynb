{
 "cells": [
  {
   "cell_type": "markdown",
   "metadata": {},
   "source": [
    "# Student ID: 19012516"
   ]
  },
  {
   "cell_type": "code",
   "execution_count": 1,
   "metadata": {
    "id": "3sGBKOTtWJx7"
   },
   "outputs": [],
   "source": [
    "#Libraries used\n",
    "import numpy as np\n",
    "import matplotlib.pyplot as plt\n",
    "from scipy import stats\n",
    "from scipy.stats.distributions import chi2\n",
    "from scipy.stats import t\n",
    "from math import factorial\n",
    "import matplotlib as mpl\n",
    "import pandas as pd\n",
    "mpl.rcParams['figure.figsize'] = [10.0, 6.0]#set chart sizes"
   ]
  },
  {
   "cell_type": "markdown",
   "metadata": {
    "id": "M1j8SRWO53QT"
   },
   "source": [
    "# 1.i.\n",
    "To access Bradford Data, the following steps were taken:\n",
    "\n",
    "1. Accessed website http://www.metoffice.gov.uk/public/weather/climate-historic/#?tab=climateHistoric\n",
    "2. Bradford selected in drop down box and *View Data* button pressed.\n",
    "3. Page reviewed and following qualifications noted: \"Estimated data is marked with a * after the value. Missing data (more than 2 days missing in month) is marked by ---.\"\n",
    "4. Page saved as .txt file.\n",
    "5. In text editor, descriptive text removed from first lines so single header row followed by data. File saved.\n",
    "6. Excel spreadsheet opened and using menu Data/Get External Data/Import Text File... the previously saved .txt file was imported.\n",
    "7. Column heading changed in Excel to be consistent with Appendix of problem sheet.\n",
    "8. Data sorted by year. Data outside desired date range deleted.\n",
    "9. Data sorted by month. Only month =8, i.e. August kept.\n",
    "10. Year 1929 removed in line with Appendix (has three fields with \"---\", see above).\n",
    "11. Column \"af\" removed as always zero and not in Appendix.\n",
    "12. *'s removed as reviewing Appendix, these are not distinguished as estimated values in the Appendix.\n",
    "13. Saved file as .csv. First few lines below:\n",
    "\n",
    "Year,mm,Tmax C,Tmin C,rain,sun\n",
    "<p>1911,8,21.6,12.5,51.8,204.8\n",
    "<p>1912,8,15.1,9.2,144,87"
   ]
  },
  {
   "cell_type": "code",
   "execution_count": 272,
   "metadata": {
    "colab": {
     "base_uri": "https://localhost:8080/",
     "height": 164
    },
    "id": "EKP2eUYh87cr",
    "outputId": "4c69720f-9f7d-478a-c478-648155197b66"
   },
   "outputs": [
    {
     "name": "stdout",
     "output_type": "stream",
     "text": [
      "   Year  mm  Tmax C  Tmin C   rain    sun\n",
      "0  1911   8    21.6    12.5   51.8  204.8\n",
      "1  1912   8    15.1     9.2  144.0   87.0\n"
     ]
    }
   ],
   "source": [
    "#1.i.\n",
    "df = pd.read_csv('Bradford.csv')#load as dataframe\n",
    "print(df.head(2))"
   ]
  },
  {
   "cell_type": "code",
   "execution_count": 288,
   "metadata": {},
   "outputs": [
    {
     "name": "stdout",
     "output_type": "stream",
     "text": [
      "Summary Statistics for Tmax (C)\n",
      "mean: 19.03\n",
      "standard deviation: 1.56\n",
      "variance: 2.45\n",
      "standard error on mean: 0.15\n",
      "\n",
      "Summary Statistics for Tmin (C)\n",
      "mean: 11.45\n",
      "standard deviation: 0.90\n",
      "variance: 0.81\n",
      "standard error on mean: 0.09\n",
      "\n",
      "all to 2 decimal places\n"
     ]
    }
   ],
   "source": [
    "#1.i.\n",
    "print('Summary Statistics for Tmax (C)')\n",
    "print('mean:','{:.2f}'.format(df['Tmax C'].mean()))\n",
    "print('standard deviation:', '{:.2f}'.format(df['Tmax C'].std()))\n",
    "print('variance:', '{:.2f}'.format(df['Tmax C'].std()**2))\n",
    "N = df['Tmax C'].count()\n",
    "print('standard error on mean:','{:.2f}'.format(df['Tmax C'].std()/N**0.5)) \n",
    "\n",
    "\n",
    "print('\\nSummary Statistics for Tmin (C)')\n",
    "print('mean:','{:.2f}'.format(df['Tmin C'].mean()))\n",
    "print('standard deviation:', '{:.2f}'.format(df['Tmin C'].std()))\n",
    "print('variance:', '{:.2f}'.format(df['Tmin C'].std()**2))\n",
    "N = df['Tmin C'].count()\n",
    "print('standard error on mean:','{:.2f}'.format(df['Tmin C'].std()/N**0.5))\n",
    "print('\\nall to 2 decimal places')\n"
   ]
  },
  {
   "cell_type": "markdown",
   "metadata": {},
   "source": [
    "# 1.ii.\n"
   ]
  },
  {
   "cell_type": "code",
   "execution_count": 240,
   "metadata": {},
   "outputs": [
    {
     "name": "stdout",
     "output_type": "stream",
     "text": [
      "   Year  mm  Tmax C  Tmin C  rain    sun\n",
      "0  1911   8    21.6    12.5  51.8  204.8\n",
      "     Year  mm  Tmax C  Tmin C  rain    sun\n",
      "105  2017   8    19.0    11.3  59.8  169.9\n"
     ]
    }
   ],
   "source": [
    "df2 = df[df['Year']<=2017]#new dataframe excluding 2018 onwards\n",
    "print(df2.head(1))\n",
    "print(df2.tail(1))#check it works"
   ]
  },
  {
   "cell_type": "code",
   "execution_count": 294,
   "metadata": {},
   "outputs": [
    {
     "name": "stdout",
     "output_type": "stream",
     "text": [
      "For tmax (C)\n",
      "0.6 confidence limits: 18.87 to 19.13\n",
      "0.9 confidence limits: 18.74 to 19.25\n",
      "\n",
      "For tmin (C)\n",
      "0.6 confidence limits: 11.34 to 11.49\n",
      "0.9 confidence limits: 11.27 to 11.56\n",
      "\n",
      "confidence limits shown to 2 decimal places\n"
     ]
    }
   ],
   "source": [
    "n = df2['Tmax C'].count()#N\n",
    "m = df2['Tmax C'].mean()#mean\n",
    "s = df2['Tmax C'].std()#standard deviation\n",
    "s_e = s/n**0.5#standard error\n",
    "c1 = 0.6#confidence\n",
    "c2 = 0.9#confidence\n",
    "i1 = s_e * t.ppf((1+c1)/2, n-1)#confidence interval for c1\n",
    "#adapted from\n",
    "#https://www.kite.com/python/examples/\n",
    "#702/scipy-compute-a-confidence-interval-from-a-dataset\n",
    "i2 = s_e * t.ppf((1+c2)/2, n-1)#confidence interval for c2\n",
    "print('For tmax (C)')\n",
    "print(f'{c1} confidence limits: {m-i1:0.2f} to {m+i1:0.2f}')\n",
    "print(f'{c2} confidence limits: {m-i2:0.2f} to {m+i2:0.2f}')\n",
    "\n",
    "n = df2['Tmin C'].count()\n",
    "m = df2['Tmin C'].mean()\n",
    "s = df2['Tmin C'].std()\n",
    "s_e = s/n**0.5#standard error\n",
    "c1 = 0.6#confidence\n",
    "c2 = 0.9#confidence\n",
    "i1 = s_e * t.ppf((1+c1)/2, n-1)#confidence interval\n",
    "i2 = s_e * t.ppf((1+c2)/2, n-1)#confidence interval\n",
    "print('\\nFor tmin (C)')\n",
    "print(f'{c1} confidence limits: {m-i1:0.2f} to {m+i1:0.2f}')\n",
    "print(f'{c2} confidence limits: {m-i2:0.2f} to {m+i2:0.2f}')\n",
    "print('\\nconfidence limits shown to 2 decimal places')"
   ]
  },
  {
   "cell_type": "markdown",
   "metadata": {},
   "source": [
    "# 1.iii."
   ]
  },
  {
   "cell_type": "code",
   "execution_count": 295,
   "metadata": {},
   "outputs": [
    {
     "name": "stdout",
     "output_type": "stream",
     "text": [
      "df3 first and last rows\n",
      "   Year  mm  Tmax C  Tmin C  rain    sun\n",
      "0  1911   8    21.6    12.5  51.8  204.8\n",
      "   Year  mm  Tmax C  Tmin C  rain    sun\n",
      "9  1920   8    16.4     9.7  42.7  111.7\n",
      "\n",
      "df4 first and last rows\n",
      "    Year  mm  Tmax C  Tmin C  rain    sun\n",
      "83  1995   8    23.3    12.3   6.7  239.4\n",
      "     Year  mm  Tmax C  Tmin C  rain    sun\n",
      "108  2020   8    19.9    12.6  97.8  143.1\n"
     ]
    }
   ],
   "source": [
    "df3 = df[df['Year']<=1920]#earlier data set\n",
    "df4 = df[df['Year']>=1995]#later data set\n",
    "print('df3 first and last rows')#print to verify\n",
    "print(df3.head(1))\n",
    "print(df3.tail(1))#print to verify\n",
    "print('\\ndf4 first and last rows')\n",
    "print(df4.head(1))\n",
    "print(df4.tail(1))"
   ]
  },
  {
   "cell_type": "code",
   "execution_count": 304,
   "metadata": {},
   "outputs": [
    {
     "name": "stdout",
     "output_type": "stream",
     "text": [
      "From 1911-1920\n",
      "Summary Statistics for Tmax (C)\n",
      "mean: 18.57\n",
      "standard deviation: 1.83\n",
      "variance: 3.35\n",
      "standard error on mean: 0.58\n",
      "0.6 confidence limits: 18.06 to 19.08\n",
      "0.9 confidence limits: 17.51 to 19.63\n",
      "\n",
      "From 1911-1920\n",
      "Summary Statistics for Tmin (C)\n",
      "mean: 10.87\n",
      "standard deviation: 1.10\n",
      "variance: 1.21\n",
      "standard error on mean: 0.35\n",
      "0.6 confidence limits: 10.56 to 11.18\n",
      "0.9 confidence limits: 10.23 to 11.51\n",
      "\n",
      "\n",
      "From 1995-2020\n",
      "Summary Statistics for Tmax (C)\n",
      "mean: 19.96\n",
      "standard deviation: 1.10\n",
      "variance: 1.21\n",
      "standard error on mean: 0.22\n",
      "0.6 confidence limits: 19.77 to 20.14\n",
      "0.9 confidence limits: 19.59 to 20.33\n",
      "\n",
      "From 1995-2020\n",
      "Summary Statistics for Tmin (C)\n",
      "mean: 12.15\n",
      "standard deviation: 0.72\n",
      "variance: 0.52\n",
      "standard error on mean: 0.14\n",
      "0.6 confidence limits: 12.03 to 12.28\n",
      "0.9 confidence limits: 11.91 to 12.40\n",
      "\n",
      "All statistics presented to 2 decimal places\n"
     ]
    }
   ],
   "source": [
    "print('From 1911-1920')\n",
    "print('Summary Statistics for Tmax (C)')\n",
    "n = df3['Tmax C'].count()\n",
    "m = df3['Tmax C'].mean()\n",
    "s = df3['Tmax C'].std()\n",
    "s_e = s/n**0.5#standard error\n",
    "c1 = 0.6#confidence\n",
    "c2 = 0.9#confidence\n",
    "i1 = s_e * t.ppf((1+c1)/2, n-1)#confidence interval\n",
    "i2 = s_e * t.ppf((1+c2)/2, n-1)#confidence interval\n",
    "print(f'mean: {m:0.2f}')\n",
    "print(f'standard deviation: {s:0.2f}')\n",
    "print(f'variance: {s**2:0.2f}')\n",
    "print(f'standard error on mean: {s_e:0.2f}')\n",
    "print(f'{c1} confidence limits: {m-i1:0.2f} to {m+i1:0.2f}')\n",
    "print(f'{c2} confidence limits: {m-i2:0.2f} to {m+i2:0.2f}')\n",
    "\n",
    "print('\\nFrom 1911-1920')\n",
    "print('Summary Statistics for Tmin (C)')\n",
    "n = df3['Tmin C'].count()\n",
    "m = df3['Tmin C'].mean()\n",
    "s = df3['Tmin C'].std()\n",
    "s_e = s/n**0.5#standard error\n",
    "c1 = 0.6#confidence\n",
    "c2 = 0.9#confidence\n",
    "i1 = s_e * t.ppf((1+c1)/2, n-1)#confidence interval\n",
    "i2 = s_e * t.ppf((1+c2)/2, n-1)#confidence interval\n",
    "print(f'mean: {m:0.2f}')\n",
    "print(f'standard deviation: {s:0.2f}')\n",
    "print(f'variance: {s**2:0.2f}')\n",
    "print(f'standard error on mean: {s_e:0.2f}')\n",
    "print(f'{c1} confidence limits: {m-i1:0.2f} to {m+i1:0.2f}')\n",
    "print(f'{c2} confidence limits: {m-i2:0.2f} to {m+i2:0.2f}')\n",
    "\n",
    "print('\\n\\nFrom 1995-2020')\n",
    "print('Summary Statistics for Tmax (C)')\n",
    "n = df4['Tmax C'].count()\n",
    "m = df4['Tmax C'].mean()\n",
    "s = df4['Tmax C'].std()\n",
    "s_e = s/n**0.5#standard error\n",
    "c1 = 0.6#confidence\n",
    "c2 = 0.9#confidence\n",
    "i1 = s_e * t.ppf((1+c1)/2, n-1)#confidence interval\n",
    "i2 = s_e * t.ppf((1+c2)/2, n-1)#confidence interval\n",
    "print(f'mean: {m:0.2f}')\n",
    "print(f'standard deviation: {s:0.2f}')\n",
    "print(f'variance: {s**2:0.2f}')\n",
    "print(f'standard error on mean: {s_e:0.2f}')\n",
    "print(f'{c1} confidence limits: {m-i1:0.2f} to {m+i1:0.2f}')\n",
    "print(f'{c2} confidence limits: {m-i2:0.2f} to {m+i2:0.2f}')\n",
    "\n",
    "print('\\nFrom 1995-2020')\n",
    "print('Summary Statistics for Tmin (C)')\n",
    "n = df4['Tmin C'].count()\n",
    "m = df4['Tmin C'].mean()\n",
    "s = df4['Tmin C'].std()\n",
    "s_e = s/n**0.5#standard error\n",
    "c1 = 0.6#confidence\n",
    "c2 = 0.9#confidence\n",
    "i1 = s_e * t.ppf((1+c1)/2, n-1)#confidence interval\n",
    "i2 = s_e * t.ppf((1+c2)/2, n-1)#confidence interval\n",
    "print(f'mean: {m:0.2f}')\n",
    "print(f'standard deviation: {s:0.2f}')\n",
    "print(f'variance: {s**2:0.2f}')\n",
    "print(f'standard error on mean: {s_e:0.2f}')\n",
    "print(f'{c1} confidence limits: {m-i1:0.2f} to {m+i1:0.2f}')\n",
    "print(f'{c2} confidence limits: {m-i2:0.2f} to {m+i2:0.2f}')\n",
    "\n",
    "print('\\nAll statistics presented to 2 decimal places')"
   ]
  },
  {
   "cell_type": "markdown",
   "metadata": {},
   "source": [
    "# 1.iii.\n",
    "The mean of the maximum and minimum temperatures in Bradford in August rose from 18.6C and 10.9C in the early period (1911-1920) to 20.0C and 12.1C in the second period. This is suggestive of warming in Bradford between the two periods. When inspecting the confidence limits, this conclusion is supported at the 60% confidence level. At the 90% level, however, the conclusion is only supported for the mimimum temperature mean. For the maximum temperature mean, at the 90% level, the confidence limits overlap between the two periods. Specifically, the upper limit for 1911-1920 is 19.63C, and the lower limit for 1995-2020 is 19.59C. So, for example, at the 90% confidence level, the actual maximum mean could be 19.60C for both periods and thus no local warming occurred. The test has been poorly constructed in the sense that the former period is only 10 years long, while the second is 26 years long. By inspection of the above statistics for the 1911-1920, this has the result of producing a large standard error on mean and wide confidence limits. If the range is expanded, then this overlap at 90% might not occur. \n",
    "\n",
    "Overall, though, the data does suggest that maximum and minimum temperatures in Bradford in August have increased between the periods.\n",
    "\n",
    "The cause of this is not clear: it could be due to local factors, not necessarily global warming. Further studies could be conducted looking at other locations."
   ]
  },
  {
   "cell_type": "markdown",
   "metadata": {
    "id": "ntNvOnFzWPJz"
   },
   "source": [
    "# Question 2.i."
   ]
  },
  {
   "cell_type": "code",
   "execution_count": 244,
   "metadata": {
    "colab": {
     "base_uri": "https://localhost:8080/",
     "height": 404
    },
    "id": "NU7gL_yUWUGO",
    "outputId": "e23dccbf-93e3-457e-dd1f-506198737ca6"
   },
   "outputs": [
    {
     "data": {
      "image/png": "[encoded data removed]",
      "text/plain": [
       "<Figure size 720x432 with 1 Axes>"
      ]
     },
     "metadata": {
      "needs_background": "light"
     },
     "output_type": "display_data"
    }
   ],
   "source": [
    "V = np.array([0.20, 0.40, 0.60, 0.80, 1.00, \n",
    "              1.20, 1.40, 1.60, 1.80, 2.00, 2.20]) # V/ volts\n",
    "I = np.array([4.10, 5.15, 6.11, 7.31, 8.53, \n",
    "              9.90, 11.22,12.69,14.21,15.77,17.60]) #I/ mA\n",
    "dI = 0.25 #dI/ mA\n",
    "\n",
    "p = np.polyfit(V,I,1) #1st order, i.e. linear fit\n",
    "line = np.poly1d(p)\n",
    "x = np.linspace(0,2.3, 20)\n",
    "y = line(x)\n",
    "plt.figure()\n",
    "plt.plot(V, I, '+', label = 'Results')\n",
    "plt.plot(x,y, label = f'Linear fit: y = {p[0]:0.4f}x + {p[1]:0.4f}')\n",
    "plt.xlabel('Voltage/ V')\n",
    "plt.ylabel('Current I/ mA')\n",
    "plt.title('Question 2i: Current versus voltage')\n",
    "plt.legend();"
   ]
  },
  {
   "cell_type": "markdown",
   "metadata": {
    "id": "4ilpg1ZdcEK7"
   },
   "source": [
    "# 2.ii.\n",
    "<p>Null hypothesis: linear fit is an appropriate description of the results.\n",
    "<p>Alternative hypothesis: linear fit is not an appropriate description of the results.\n",
    "<p>The questions asks us to \"calculate the $\\chi^2$ probability for the fit.\".\n",
    "<p>For this measure, the following probability from “Measurements and their Uncertainties” by Hughes and Hase has been used:\n",
    "<p>\n",
    "    $$P(\\chi_{min}^2;v)$$   \n",
    "<p>This is the \"probability of obtaining a value of $\\chi_{min}^2$ equal to the fit value or higher.\" \n",
    "<p>\"For a reasonable fit $P(\\chi_{min}^2;v)\\approx 0.5$\"\n",
    "<p>This was calculated using chi2.sf function from scipy.stats.distributions. "
   ]
  },
  {
   "cell_type": "code",
   "execution_count": 344,
   "metadata": {
    "colab": {
     "base_uri": "https://localhost:8080/"
    },
    "id": "5hpGsCuuZCgp",
    "outputId": "9a2461d2-95a2-4376-d26b-19915c037b3d"
   },
   "outputs": [
    {
     "name": "stdout",
     "output_type": "stream",
     "text": [
      "Chi-squared statistic: 21.79\n",
      "Reduced Chi-squared statistic: 2.42\n",
      "Chi-Squared Probability 9.57e-03\n",
      "\n",
      "Above statistics shown to 2 decimal places, except Chi-Squared Probability to 3 significant figures.\n"
     ]
    }
   ],
   "source": [
    "# Question 2 ii.\n",
    "res = I - line(V)# residuals\n",
    "res_y = res/dI # residuals divided by y error dI to normalise\n",
    "chi_2 = np.sum(res_y**2)\n",
    "deg = len(V) - 2\n",
    "# degrees of freedom= no. of points - fit parameters (two for linear)\n",
    "chi_2_red = chi_2/deg\n",
    "chi_2_prob = chi2.sf(chi_2,deg)\n",
    "print(f'Chi-squared statistic: {chi_2:0.2f}')\n",
    "print(f'Reduced Chi-squared statistic: {chi_2_red:0.2f}')\n",
    "print(f'Chi-Squared Probability {chi_2_prob:0.2e}')\n",
    "print('\\nAbove statistics shown to 2 decimal places, except Chi-Squared Probability to 3 significant figures.')"
   ]
  },
  {
   "cell_type": "markdown",
   "metadata": {
    "id": "q1UmY_JedJnI"
   },
   "source": [
    "# 2.ii.\n",
    "According to “Measurements and their Uncertainties\":\n",
    "<p>The null hypothesis is questioned if, the reduced $\\chi^2$, $\\chi_v^2 > 2$ for $v\\approx10$. This is the case here as v=9.\n",
    "<p>The null hypothesis is rejected if $P(\\chi^2_{min};v) < 10^{-4}$. This is not the case here.\n",
    "<p>The null hypothesis is questioned if $P(\\chi^2_{min};v) \\approx 10^{-3}$. Our value of $P(\\chi^2_{min};v) \\approx 10^{-2}$, so a little better.\n",
    "    \n",
    "Overall, it seems the null hypothesis cannot be rejected, but it certainly looks questionable. The largest contributers to $\\chi^2$ were the first and last data points."
   ]
  },
  {
   "cell_type": "markdown",
   "metadata": {
    "id": "2rxMbiBaOaOi"
   },
   "source": [
    "# 2.iii."
   ]
  },
  {
   "cell_type": "code",
   "execution_count": 247,
   "metadata": {
    "colab": {
     "base_uri": "https://localhost:8080/",
     "height": 438
    },
    "id": "rV8SwsUNH6Xr",
    "outputId": "485fa88f-37fa-41b7-f024-8eb2ecee0750"
   },
   "outputs": [
    {
     "name": "stdout",
     "output_type": "stream",
     "text": [
      "The error bars of 6 points\n",
      "out of 11 do not cross linear fit line.\n",
      "\n"
     ]
    },
    {
     "data": {
      "image/png": "[encoded data removed]",
      "text/plain": [
       "<Figure size 720x432 with 1 Axes>"
      ]
     },
     "metadata": {
      "needs_background": "light"
     },
     "output_type": "display_data"
    }
   ],
   "source": [
    "## Question 2 iii.\n",
    "plt.figure()\n",
    "plt.errorbar(V, I, yerr=dI, fmt='.', capsize=2,label='Results')\n",
    "plt.plot(x,y, label = f'Linear fit: y = {p[0]:0.4f}x + {p[1]:0.4f}')\n",
    "plt.xlabel('Voltage/ V')\n",
    "plt.ylabel('Current I/ mA')\n",
    "plt.title('Question 2iii: Current versus voltage with error bars')\n",
    "plt.legend()\n",
    "print(f'The error bars of {np.count_nonzero(abs(res) >= dI)} points'),\n",
    "print(f'out of {len(I)} do not cross linear fit line.\\n')\n",
    "#use of np.count_nonzero adapted from https://note.nkmk.me/en/python-numpy-count/"
   ]
  },
  {
   "cell_type": "markdown",
   "metadata": {
    "id": "x8A5CR8IOmvF"
   },
   "source": [
    "# 2.iv.\n",
    "The graphical comparison shows that only a minority of points (5/11) fit the line when taking into account the error bars. With such tight errors bars, there is low confidence that the linear fit is appropriate. \n",
    "\n",
    "This has been confirmed by the reduced $\\chi^2$ being well above 1 and $P(\\chi^2;v) < 0.01$ as calculated in 2 iii.\n",
    "\n",
    "One possibility is that the error bars have been set too tight. However, there does seem to be a curve in the data and a higher order fit could be considered e.g. quadratic."
   ]
  },
  {
   "cell_type": "markdown",
   "metadata": {
    "id": "YhskNFAINTkY"
   },
   "source": [
    "# 3.i."
   ]
  },
  {
   "cell_type": "code",
   "execution_count": 316,
   "metadata": {
    "colab": {
     "base_uri": "https://localhost:8080/"
    },
    "id": "zeKrnkdKGqSQ",
    "outputId": "1fce76d1-21f7-4912-e50b-6bbaf80db01f"
   },
   "outputs": [
    {
     "name": "stdout",
     "output_type": "stream",
     "text": [
      "FC Franken goals: mean = 2.9032, variance = 2.7326, standard deviation = 1.6530\n",
      "Stein City goals: mean = 3.1471, variance = 4.0078, standard deviation = 2.0019\n",
      "all to 4 decimal places\n"
     ]
    }
   ],
   "source": [
    "# 3.i\n",
    "goals = np.array([0,1,2,3,4,5,6,7,8])\n",
    "fcf_freq = np.array([1,5,9,6,5,2,2,1,0])\n",
    "st_freq = np.array([2,4,11,5,3,3,4,1,1,])\n",
    "\n",
    "fcf_mean = np.sum(goals * fcf_freq)/ np.sum(fcf_freq)\n",
    "fcf_var = np.sum(fcf_freq*(goals - fcf_mean)**2)/ np.sum(fcf_freq)\n",
    "fcf_std = np.sqrt(fcf_var)# population std as looking at whole season\n",
    "print(f'FC Franken goals: mean = {fcf_mean:0.4f}, variance = {fcf_var:0.4f}', end='')\n",
    "print(f', standard deviation = {fcf_std:0.4f}')\n",
    "\n",
    "st_mean = np.sum(goals * st_freq)/ np.sum(st_freq)\n",
    "st_var = np.sum(st_freq*(goals - st_mean)**2)/ np.sum(st_freq)\n",
    "st_std = np.sqrt(st_var)# population std appropriate as looking at whole season\n",
    "print(f'Stein City goals: mean = {st_mean:0.4f}, variance = {st_var:0.4f}', end ='')\n",
    "print(f', standard deviation = {st_std:0.4f}')\n",
    "print('all to 4 decimal places')"
   ]
  },
  {
   "cell_type": "markdown",
   "metadata": {
    "id": "4EvjnLH2ZkXl"
   },
   "source": [
    "# 3.ii."
   ]
  },
  {
   "cell_type": "code",
   "execution_count": 267,
   "metadata": {
    "colab": {
     "base_uri": "https://localhost:8080/"
    },
    "id": "kHDNr9QFJsmA",
    "outputId": "d54ffbc3-4d18-4a58-c494-64104716bb60"
   },
   "outputs": [
    {
     "name": "stdout",
     "output_type": "stream",
     "text": [
      "FC Franken Frequencies\n",
      "Goals: 0, Actual Frequency: 1, Poisson Frequency: 1.7002 (4dp)\n",
      "Goals: 1, Actual Frequency: 5, Poisson Frequency: 4.9361 (4dp)\n",
      "Goals: 2, Actual Frequency: 9, Poisson Frequency: 7.1654 (4dp)\n",
      "Goals: 3, Actual Frequency: 6, Poisson Frequency: 6.9342 (4dp)\n",
      "Goals: 4, Actual Frequency: 5, Poisson Frequency: 5.0329 (4dp)\n",
      "Goals: 5, Actual Frequency: 2, Poisson Frequency: 2.9223 (4dp)\n",
      "Goals: 6, Actual Frequency: 2, Poisson Frequency: 1.4140 (4dp)\n",
      "Goals: 7, Actual Frequency: 1, Poisson Frequency: 0.5865 (4dp)\n",
      "Goals: 8, Actual Frequency: 0, Poisson Frequency: 0.2128 (4dp)\n",
      "\n",
      "Stein City Frequencies\n",
      "Goals: 0, Actual Frequency: 2, Poisson Frequency: 1.4613 (4dp)\n",
      "Goals: 1, Actual Frequency: 4, Poisson Frequency: 4.5987 (4dp)\n",
      "Goals: 2, Actual Frequency: 11, Poisson Frequency: 7.2362 (4dp)\n",
      "Goals: 3, Actual Frequency: 5, Poisson Frequency: 7.5909 (4dp)\n",
      "Goals: 4, Actual Frequency: 3, Poisson Frequency: 5.9722 (4dp)\n",
      "Goals: 5, Actual Frequency: 3, Poisson Frequency: 3.7590 (4dp)\n",
      "Goals: 6, Actual Frequency: 4, Poisson Frequency: 1.9716 (4dp)\n",
      "Goals: 7, Actual Frequency: 1, Poisson Frequency: 0.8864 (4dp)\n",
      "Goals: 8, Actual Frequency: 1, Poisson Frequency: 0.3487 (4dp)\n"
     ]
    }
   ],
   "source": [
    "# 3.ii\n",
    "# couldn't find way to factorialize across an array directly\n",
    "goals_fact = np.array([])\n",
    "for i in goals: goals_fact = np.append(goals_fact, np.math.factorial(i))\n",
    "\n",
    "# Poisson frequencies calculated using the formula give in question\n",
    "# multiplied by the sum of the frequencies to give desired frequencies\n",
    "fcf_pois = np.sum(fcf_freq)* (fcf_mean ** goals) * np.exp(-fcf_mean)\\\n",
    "/ goals_fact\n",
    "st_pois = np.sum(st_freq)* (st_mean ** goals) * np.exp(-st_mean) / goals_fact\n",
    "print('FC Franken Frequencies')\n",
    "for i in goals:\n",
    "  print(f'Goals: {goals[i]}, Actual Frequency: {fcf_freq[i]}', end='')\n",
    "  print(f', Poisson Frequency: {fcf_pois[i]:0.4f} (4dp)')\n",
    "print('\\nStein City Frequencies')\n",
    "for i in goals:\n",
    "  print(f'Goals: {goals[i]}, Actual Frequency: {st_freq[i]}', end='')\n",
    "  print(f', Poisson Frequency: {st_pois[i]:0.4f} (4dp)')\n"
   ]
  },
  {
   "cell_type": "markdown",
   "metadata": {
    "id": "QKEe3cs-Z96A"
   },
   "source": [
    "# 3.iii.\n",
    "The bining task is much easier done in Excel than Python. It was done in Excel to test the logic of the following code.\n",
    "\n",
    "The following code produces corresponding frequency arrays where bins have poisson frequency >=5. There is a potential shortcoming in the code in the case where there is a long tail of low frequencies which might on their own add up to a bin size of >5. This was not the case with the data for either team."
   ]
  },
  {
   "cell_type": "code",
   "execution_count": 258,
   "metadata": {
    "colab": {
     "base_uri": "https://localhost:8080/"
    },
    "id": "yzolXvpAOa0I",
    "outputId": "31da30ae-89fe-4cc2-96d7-e2f214516295"
   },
   "outputs": [
    {
     "name": "stdout",
     "output_type": "stream",
     "text": [
      "FC Franken goal frequencies in bins >=5\n",
      "Actual Frequency: 6.0, Poisson Frequency: 6.6364 (4dp)\n",
      "Actual Frequency: 9.0, Poisson Frequency: 7.1654 (4dp)\n",
      "Actual Frequency: 6.0, Poisson Frequency: 6.9342 (4dp)\n",
      "Actual Frequency: 5.0, Poisson Frequency: 5.0329 (4dp)\n",
      "Actual Frequency: 5.0, Poisson Frequency: 5.1357 (4dp)\n",
      "\n",
      "Stein City goal frequencies in bins >=5\n",
      "Actual Frequency: 6.0, Poisson Frequency: 6.0599 (4dp)\n",
      "Actual Frequency: 11.0, Poisson Frequency: 7.2362 (4dp)\n",
      "Actual Frequency: 5.0, Poisson Frequency: 7.5909 (4dp)\n",
      "Actual Frequency: 3.0, Poisson Frequency: 5.9722 (4dp)\n",
      "Actual Frequency: 9.0, Poisson Frequency: 6.9657 (4dp)\n"
     ]
    }
   ],
   "source": [
    "# 3.iii\n",
    "fcf_freq_bin = np.array([])# empty array to capture binned frequencies\n",
    "fcf_pois_bin = np.array([])# empty array to capture binned poisson frequencies\n",
    "act, pois = 0,0# counter values for last values of actual and poisson freq.\n",
    "for i in goals:\n",
    "  pois += fcf_pois[i]\n",
    "  act += fcf_freq[i]\n",
    "  if pois >= 5:\n",
    "    fcf_freq_bin = np.append(fcf_freq_bin, act)\n",
    "    fcf_pois_bin = np.append(fcf_pois_bin, pois)\n",
    "    act, pois = 0, 0# reset to zero as has been used in this bin\n",
    "if pois != 0:\n",
    "  fcf_freq_bin[-1] += act\n",
    "  fcf_pois_bin[-1] += pois\n",
    "print('FC Franken goal frequencies in bins >=5')\n",
    "for i in range(len(fcf_freq_bin)):\n",
    "  print(f'Actual Frequency: {fcf_freq_bin[i]}, Poisson Frequency: ', end ='')\n",
    "  print(f'{fcf_pois_bin[i]:0.4f} (4dp)')\n",
    "\n",
    "st_freq_bin = np.array([])# empty array to capture binned frequencies\n",
    "st_pois_bin = np.array([])# empty array to capture binned poisson frequencies\n",
    "act, pois = 0,0# counter values for last values of actual and poisson freq.\n",
    "for i in goals:\n",
    "  pois += st_pois[i]\n",
    "  act += st_freq[i]\n",
    "  if pois >= 5:\n",
    "    st_freq_bin = np.append(st_freq_bin, act)\n",
    "    st_pois_bin = np.append(st_pois_bin, pois)\n",
    "    act, pois = 0, 0# reset to zero as has been used in this bin\n",
    "if pois != 0:\n",
    "  st_freq_bin[-1] += act\n",
    "  st_pois_bin[-1] += pois\n",
    "print('\\nStein City goal frequencies in bins >=5')\n",
    "for i in range(len(st_freq_bin)):\n",
    "  print(f'Actual Frequency: {st_freq_bin[i]}, Poisson Frequency: ', end ='')\n",
    "  print(f'{st_pois_bin[i]:0.4f} (4dp)')"
   ]
  },
  {
   "cell_type": "code",
   "execution_count": 325,
   "metadata": {
    "colab": {
     "base_uri": "https://localhost:8080/"
    },
    "id": "P-dAPqIROciA",
    "outputId": "7b3c305d-1358-433a-8cbe-2f98aeafa79c"
   },
   "outputs": [
    {
     "name": "stdout",
     "output_type": "stream",
     "text": [
      "FC Franken\n",
      "Chi-squared: 0.66\n",
      "Reduced chi-squared: 0.17\n",
      "Chi-squared probability: 0.96\n",
      "\n",
      "Stein City\n",
      "Chi-squared: 4.92\n",
      "Reduced chi-squared: 1.23\n",
      "Chi-squared probability: 0.30\n"
     ]
    }
   ],
   "source": [
    "fcf_chi2 = np.sum(((fcf_freq_bin - fcf_pois_bin)/ np.sqrt(fcf_pois_bin))**2)\n",
    "st_chi2 = np.sum(((st_freq_bin - st_pois_bin)/ np.sqrt(st_pois_bin))**2)\n",
    "deg = 4# each has 5 bins and there is one fit parameter, the mean.\n",
    "print('FC Franken')\n",
    "print(f'Chi-squared: {fcf_chi2:0.2f}')\n",
    "print(f'Reduced chi-squared: {fcf_chi2/deg:0.2f}')\n",
    "print(f'Chi-squared probability: {chi2.sf(fcf_chi2,deg):0.2f}')\n",
    "print('\\nStein City')\n",
    "print(f'Chi-squared: {st_chi2:0.2f}')\n",
    "print(f'Reduced chi-squared: {st_chi2/deg:0.2f}')\n",
    "print(f'Chi-squared probability: {chi2.sf(st_chi2,deg):0.2f}')"
   ]
  },
  {
   "cell_type": "markdown",
   "metadata": {},
   "source": [
    "# 3.iii.\n",
    "FC Franken has a low $\\chi_{v}^2$ and $P(\\chi^2)$ close to unity. This indicates an \"improbably good fit\" as described in Note 2 from the problem sheet. It is not a problem of number of parameters as only one has been used, the mean. It is more likely to result from the error approximation being inaccurate.\n",
    "\n",
    "Stein City, on the other hand has a better fit with $\\chi_{v}^2$ close to 1 and $P(\\chi^2)$ not as far away from 0.5."
   ]
  },
  {
   "cell_type": "code",
   "execution_count": 260,
   "metadata": {
    "colab": {
     "base_uri": "https://localhost:8080/",
     "height": 374
    },
    "id": "p54_0FB0PYNO",
    "outputId": "62beb039-b487-49e5-d659-bf2e9f97347c"
   },
   "outputs": [
    {
     "data": {
      "image/png": "[encoded data removed]",
      "text/plain": [
       "<Figure size 720x432 with 2 Axes>"
      ]
     },
     "metadata": {
      "needs_background": "light"
     },
     "output_type": "display_data"
    }
   ],
   "source": [
    "#3.iv\n",
    "fig, axs = plt.subplots(2, sharex=True)\n",
    "axs[0].scatter(goals, fcf_freq, label= 'Actual results', marker = '+')\n",
    "axs[0].plot(goals, fcf_pois, label = 'Poisson fit', color ='orange')\n",
    "axs[0].set_ylabel('Frequency')\n",
    "axs[0].legend()\n",
    "axs[0].set_title('FC Franken Goal Frequency Distribution')\n",
    "axs[1].scatter(goals, st_freq, label= 'Actual results', marker = '+')\n",
    "axs[1].plot(goals, st_pois, label = 'Poisson fit', color ='orange')\n",
    "axs[1].legend()\n",
    "axs[1].set_ylabel('Frequency')\n",
    "axs[1].set_xlabel('Goals')\n",
    "axs[1].set_title('Stein City Goal Frequency Distribution');"
   ]
  },
  {
   "cell_type": "markdown",
   "metadata": {
    "id": "44bRzArBfIB9"
   },
   "source": [
    "# 4.i\n",
    "In this question, there are uncertainties in both the dependent and independent variables. A review of \"Measurements and Their Uncertainties\" Chapter 9, \"Topics for Further Study\" shows that this is a complex area with different approaches possible.\n",
    "<p>Instead, it was decided to ignore the errors in the angle. The justification for this is that they are smaller than for the R coefficients as a percentage. Angle error percentages range from 0.6% to 5.0%, whereas those for R vary from 2.4% to 25.0% (once you have excluded three points close to Brewster angle)."
   ]
  },
  {
   "cell_type": "code",
   "execution_count": 9,
   "metadata": {
    "colab": {
     "base_uri": "https://localhost:8080/",
     "height": 265
    },
    "id": "F6iJ8VbIPY8l",
    "outputId": "6ab02773-7edd-4874-e6e4-1a818c342c25"
   },
   "outputs": [
    {
     "name": "stdout",
     "output_type": "stream",
     "text": [
      "Estimate of n(Perspex) using Brewster: 1.54\n",
      "Estimate of n(Perspex) using low theta limit: 1.48\n",
      "\n",
      "For n(Perspex) from Brewster\n",
      "Chi-squared statistic: 3053.75\n",
      "Degrees of freedom: 28\n",
      "Chi-squared probability: 0.0\n",
      "\n",
      "n values and chi-squared statistic presented to 2 decimal places\n"
     ]
    }
   ],
   "source": [
    "# 4. i\n",
    "theta1_per = np.array([10,15,20,25,30,35,40,45,50,55,60,65,70,75,80,85])\n",
    "#data for theta 1 in degrees\n",
    "r2_par = np.array([0.034,0.032,0.029,0.026,0.022,0.018,0.013,0.008,0.003,0.001,\n",
    "                   0.003,0.014,0.043,0.104,0.231,0.471])\n",
    "#data for R-squared parallel\n",
    "r2_per = np.array([0.040, 0.042,0.046,0.051,0.057,0.066,0.078,0.094,0.116,0.146,\n",
    "                   0.188,0.245,0.328,0.443,0.606,0.828])\n",
    "#data for R-Squared perpendicular\n",
    "brew = 57#brewster angle 57 degrees\n",
    "angle_err = 0.5#angle error in degrees\n",
    "r_err = 0.002#error in R coefficients\n",
    "\n",
    "n_p = np.tan(brew*np.pi/180)# est. of refractive index using Brewster law\n",
    "print(f'Estimate of n(Perspex) using Brewster: {n_p:0.2f}')\n",
    "n_p2 = (1+np.sqrt(0.037))/(1-np.sqrt(0.037))# second estimate\n",
    "#using expression for average value of coefficients as theta tends to zero.\n",
    "#average of 0.034 and 0.040 = 0.037\n",
    "print(f'Estimate of n(Perspex) using low theta limit: {n_p2:0.2f}')\n",
    "      \n",
    "#Exclusion of data points less than 3 error bars from zero (0.06)\n",
    "#happens for r2_par at 50,55 and 60 degrees only\n",
    "#manually delete these items and add a new theta array to match\n",
    "theta1_par = np.array([10,15,20,25,30,35,40,45,65,70,75,80,85])\n",
    "r2_par = np.array([0.034,0.032,0.029,0.026,0.022,0.018,0.013,0.008,0.014,0.043,\n",
    "                   0.104,0.231,0.471])\n",
    "\n",
    "#1. Convert theta1 arrays to radians\n",
    "theta1_per = theta1_per* np.pi/180\n",
    "theta1_par = theta1_par* np.pi/180\n",
    "\n",
    "#2. Calculate theta2 arrays using Snell's law\n",
    "#theta2 is other angle required in Fresnel relations\n",
    "theta2_per = np.arcsin(np.sin(theta1_per)/n_p)\n",
    "theta2_par = np.arcsin(np.sin(theta1_par)/n_p)\n",
    "\n",
    "#3. Calculate theoretical values of R-Squared perpendicular and R-squared parallel\n",
    "#using Fresnel relations\n",
    "r2_per_t = ((np.cos(theta1_per) - n_p * np.cos(theta2_per)) / \\\n",
    "            (np.cos(theta1_per) + n_p * np.cos(theta2_per)))**2\n",
    "r2_par_t = ((n_p* np.cos(theta1_par) - np.cos(theta2_par)) / \\\n",
    "            (n_p* np.cos(theta1_par) + np.cos(theta2_par)))**2\n",
    "\n",
    "\n",
    "#4. Fit for all valid data, therefore concatenate arrays\n",
    "r2 = np.concatenate((r2_per, r2_par))\n",
    "r2_t = np.concatenate((r2_per_t, r2_par_t))\n",
    "\n",
    "#5. Calculate chi-squared\n",
    "chi_sqr = np.sum(((r2-r2_t)/r_err)**2)\n",
    "print('\\nFor n(Perspex) from Brewster')\n",
    "print(f'Chi-squared statistic: {chi_sqr:0.2f}')\n",
    "\n",
    "#6. Degrees of freedom\n",
    "deg = len(r2) - 1# there is only one fit parameter in Fresnel equations, n\n",
    "print('Degrees of freedom:', deg)\n",
    "\n",
    "#7. Chi-Squared Probability\n",
    "print('Chi-squared probability:', chi2.sf(chi_sqr,deg))\n",
    "\n",
    "print('\\nn values and chi-squared statistic presented to 2 decimal places')\n"
   ]
  },
  {
   "cell_type": "markdown",
   "metadata": {},
   "source": [
    "# 4.i.\n",
    "The $\\chi^2$ statistic is massive and so large that $P(\\chi^2)$ returns 0.0. Our estimate of n is providing a very poor fit. The problem appears to be the error band is too narrow, particularly for large values of $\\theta_1$. Let's calculate the effect of the uncertainty of $\\theta_1$ on the reflection coefficients and then include the measurement error to give a total error array."
   ]
  },
  {
   "cell_type": "code",
   "execution_count": 15,
   "metadata": {},
   "outputs": [
    {
     "name": "stdout",
     "output_type": "stream",
     "text": [
      "Chi-squared statistic: 228.17 (2dp)\n",
      "Degrees of freedom: 28\n",
      "Chi-squared probability: 2.86e-33 (3sf)\n"
     ]
    }
   ],
   "source": [
    "dtheta1 = 0.5 * np.pi/180#error in theta1 in radians\n",
    "theta1_plus = theta1_per + dtheta1#array with theta1 errors added\n",
    "theta1_minus = theta1_per - dtheta1#array with theta1 errors subtracted\n",
    "\n",
    "#calculate theta2 for the two scenarios\n",
    "theta2_plus = np.arcsin(np.sin(theta1_plus)/n_p)\n",
    "theta2_minus = np.arcsin(np.sin(theta1_minus)/n_p)\n",
    "\n",
    "#Calculate theoretical values of R-Squared perpendicular and R-squared parallel\n",
    "#for the 2 scenarios using Fresnel relations\n",
    "r2_per_plus = ((np.cos(theta1_plus) - n_p * np.cos(theta2_plus)) / \\\n",
    "               (np.cos(theta1_plus) + n_p * np.cos(theta2_plus)))**2\n",
    "r2_per_minus = ((np.cos(theta1_minus) - n_p * np.cos(theta2_minus)) / \\\n",
    "                (np.cos(theta1_minus) + n_p * np.cos(theta2_minus)))**2\n",
    "r2_par_plus = ((n_p* np.cos(theta1_plus) - np.cos(theta2_plus)) / \\\n",
    "               (n_p* np.cos(theta1_plus) + np.cos(theta2_plus)))**2\n",
    "r2_par_minus = ((n_p* np.cos(theta1_minus) - np.cos(theta2_minus)) / \\\n",
    "                (n_p* np.cos(theta1_minus) + np.cos(theta2_minus)))**2\n",
    "\n",
    "#calculating error as half the range between the two scenarios\n",
    "#then propagating this error term with measurement error\n",
    "r2_per_err = np.sqrt(((r2_per_plus - r2_per_minus)/2)**2 + 0.002**2)\n",
    "r2_par_err = np.sqrt(((r2_par_plus - r2_par_minus)/2)**2 + 0.002**2)\n",
    "\n",
    "#method to recalculate \"par\" arrays now with 50,55,60 angles excluded\n",
    "#same angles excluded, can use theta1_par as previously defined\n",
    "theta1_plus = theta1_par + dtheta1\n",
    "theta1_minus = theta1_par - dtheta1\n",
    "theta2_plus = np.arcsin(np.sin(theta1_plus)/n_p)\n",
    "theta2_minus = np.arcsin(np.sin(theta1_minus)/n_p)\n",
    "r2_par_plus = ((n_p* np.cos(theta1_plus) - np.cos(theta2_plus)) / \\\n",
    "               (n_p* np.cos(theta1_plus) + np.cos(theta2_plus)))**2\n",
    "r2_par_minus = ((n_p* np.cos(theta1_minus) - np.cos(theta2_minus)) / \\\n",
    "                (n_p* np.cos(theta1_minus) + np.cos(theta2_minus)))**2\n",
    "r2_par_err = np.sqrt(((r2_par_plus - r2_par_minus)/2)**2 + 0.002**2)\n",
    "r2_par = np.array([0.034,0.032,0.029,0.026,0.022,0.018,0.013,0.008,0.014,0.043,\n",
    "                   0.104,0.231,0.471])\n",
    "\n",
    "\n",
    "# Calculate theta2 arrays using Snell's law\n",
    "theta2_per = np.arcsin(np.sin(theta1_per)/n_p)\n",
    "theta2_par = np.arcsin(np.sin(theta1_par)/n_p)\n",
    "\n",
    "# Calculate theoretical R-Squared perpendicular and R-squared parallel\n",
    "# using Fresnel relations\n",
    "r2_per_t = ((np.cos(theta1_per) - n_p * np.cos(theta2_per)) / \\\n",
    "            (np.cos(theta1_per) + n_p * np.cos(theta2_per)))**2\n",
    "r2_par_t = ((n_p* np.cos(theta1_par) - np.cos(theta2_par)) / \\\n",
    "            (n_p* np.cos(theta1_par) + np.cos(theta2_par)))**2\n",
    "\n",
    "# Fit for all valid data, therefore concatenate arrays\n",
    "r2 = np.concatenate((r2_per, r2_par))\n",
    "r2_t = np.concatenate((r2_per_t, r2_par_t))\n",
    "r_err = np.concatenate((r2_per_err, r2_par_err))\n",
    "\n",
    "# Calculate chi-squared\n",
    "chi_sqr = np.sum(((r2-r2_t)/r_err)**2)\n",
    "print(f'Chi-squared statistic: {chi_sqr:0.2f} (2dp)')\n",
    "\n",
    "#3. Degrees of freedom\n",
    "deg = len(r2) - 1# there is only one fit parameter in Fresnel equations, n\n",
    "print('Degrees of freedom:', deg)\n",
    "\n",
    "#4. Chi-Squared Probability\n",
    "print(f'Chi-squared probability: {chi2.sf(chi_sqr,deg):0.2e} (3sf)')"
   ]
  },
  {
   "cell_type": "markdown",
   "metadata": {},
   "source": [
    "# 4.i.\n",
    "The $\\chi^2$ statistic is large and $P(\\chi^2)$ small, so n(Perspex) calculated with the Brewster angle is a poor fit. The $\\chi^2$ is much lower than previously, so there is a chance that we can minimize $\\chi^2$ to a reasonable level.\n",
    "# 4.ii.\n",
    "Start with $R_\\parallel^2$"
   ]
  },
  {
   "cell_type": "code",
   "execution_count": 341,
   "metadata": {},
   "outputs": [
    {
     "name": "stdout",
     "output_type": "stream",
     "text": [
      "n: 1.4\tChi-s: 63.42\tP: 5.34e-09\n",
      "n: 1.41\tChi-s: 46.48\tP: 5.74e-06\n",
      "n: 1.42\tChi-s: 32.03\tP: 1.37e-03\n",
      "n: 1.43\tChi-s: 20.22\tP: 6.31e-02\n",
      "n: 1.44\tChi-s: 11.16\tP: 5.15e-01\n",
      "n: 1.45\tChi-s: 5.00\tP: 9.58e-01\n",
      "n: 1.46\tChi-s: 1.87\tP: 1.00e+00\n",
      "n: 1.47\tChi-s: 1.89\tP: 1.00e+00\n",
      "n: 1.48\tChi-s: 5.18\tP: 9.52e-01\n",
      "n: 1.49\tChi-s: 11.87\tP: 4.56e-01\n",
      "n: 1.5\tChi-s: 22.07\tP: 3.67e-02\n",
      "n: 1.51\tChi-s: 35.90\tP: 3.36e-04\n",
      "n: 1.52\tChi-s: 53.48\tP: 3.39e-07\n",
      "n: 1.53\tChi-s: 74.90\tP: 3.83e-11\n",
      "n: 1.54\tChi-s: 100.29\tP: 4.89e-16\n",
      "n: 1.55\tChi-s: 129.73\tP: 6.98e-22\n",
      "n: 1.56\tChi-s: 163.34\tP: 1.10e-28\n",
      "n: 1.57\tChi-s: 201.21\tP: 1.84e-36\n",
      "n: 1.58\tChi-s: 243.43\tP: 3.21e-45\n",
      "n: 1.59\tChi-s: 290.09\tP: 5.63e-55\n",
      "n: 1.6\tChi-s: 341.29\tP: 9.61e-66\n"
     ]
    }
   ],
   "source": [
    "# First for R-squared parallel\n",
    "n_array = np.linspace(1.4,1.6,21)#1.40 to 1.60 in steps of 0.01\n",
    "for n_p in n_array:\n",
    "    theta2_per = np.arcsin(np.sin(theta1_per)/n_p)\n",
    "    theta2_par = np.arcsin(np.sin(theta1_par)/n_p)\n",
    "    r2_per_t = ((np.cos(theta1_per) - n_p * np.cos(theta2_per)) / \\\n",
    "                (np.cos(theta1_per) + n_p * np.cos(theta2_per)))**2\n",
    "    r2_par_t = ((n_p* np.cos(theta1_par) - np.cos(theta2_par)) / \\\n",
    "                (n_p* np.cos(theta1_par) + np.cos(theta2_par)))**2\n",
    "    r2 = r2_par\n",
    "    r2_t = r2_par_t\n",
    "    r_err = r2_par_err\n",
    "    chi_sqr = np.sum(((r2-r2_t)/r_err)**2)\n",
    "    deg = len(r2) - 1# there is only one fit parameter in Fresnel equations, n\n",
    "    print(f'n: {n_p}\\tChi-s: {chi_sqr:0.2f}\\tP: {chi2.sf(chi_sqr,deg):0.2e}')    "
   ]
  },
  {
   "cell_type": "markdown",
   "metadata": {},
   "source": [
    "# 4.ii.\n",
    "Lowest $\\chi^2 = 1.87$ when n = 1.46 and $P(\\chi^2) = 1.00$\n",
    "<p>According to \"Measurements and their Uncertainities\" a good fit occurs when $P(\\chi^2) \\approx 0.5$ and $\\chi^2 \\approx$ degrees of freedom (12). These occur when n=1.44 and 1.49. True value of n is probably within this range.\n",
    "<p>Now try $R_\\perp^2$"
   ]
  },
  {
   "cell_type": "code",
   "execution_count": 342,
   "metadata": {},
   "outputs": [
    {
     "name": "stdout",
     "output_type": "stream",
     "text": [
      "n: 1.4\tChi-s: 1010.96\tP: 6.03e-206\n",
      "n: 1.41\tChi-s: 850.40\tP: 1.44e-171\n",
      "n: 1.42\tChi-s: 704.70\tP: 1.85e-140\n",
      "n: 1.43\tChi-s: 573.93\tP: 1.22e-112\n",
      "n: 1.44\tChi-s: 458.13\tP: 3.96e-88\n",
      "n: 1.45\tChi-s: 357.35\tP: 6.08e-67\n",
      "n: 1.46\tChi-s: 271.62\tP: 4.27e-49\n",
      "n: 1.47\tChi-s: 200.97\tP: 1.35e-34\n",
      "n: 1.48\tChi-s: 145.40\tP: 1.97e-23\n",
      "n: 1.49\tChi-s: 104.93\tP: 1.50e-15\n",
      "n: 1.5\tChi-s: 79.56\tP: 8.40e-11\n",
      "n: 1.51\tChi-s: 69.28\tP: 6.00e-09\n",
      "n: 1.52\tChi-s: 74.08\tP: 8.31e-10\n",
      "n: 1.53\tChi-s: 93.93\tP: 1.82e-13\n",
      "n: 1.54\tChi-s: 128.82\tP: 3.62e-20\n",
      "n: 1.55\tChi-s: 178.71\tP: 4.33e-30\n",
      "n: 1.56\tChi-s: 243.56\tP: 2.62e-43\n",
      "n: 1.57\tChi-s: 323.34\tP: 7.75e-60\n",
      "n: 1.58\tChi-s: 417.99\tP: 1.14e-79\n",
      "n: 1.59\tChi-s: 527.47\tP: 8.65e-103\n",
      "n: 1.6\tChi-s: 651.72\tP: 3.56e-129\n"
     ]
    }
   ],
   "source": [
    "# Now for R-squared parallel\n",
    "n_array = np.linspace(1.4,1.6,21)#1.40 to 1.60 in steps of 0.01\n",
    "for n_p in n_array:\n",
    "    theta2_per = np.arcsin(np.sin(theta1_per)/n_p)\n",
    "    theta2_par = np.arcsin(np.sin(theta1_par)/n_p)\n",
    "    r2_per_t = ((np.cos(theta1_per) - n_p * np.cos(theta2_per)) / \\\n",
    "                (np.cos(theta1_per) + n_p * np.cos(theta2_per)))**2\n",
    "    r2_par_t = ((n_p* np.cos(theta1_par) - np.cos(theta2_par)) / \\\n",
    "                (n_p* np.cos(theta1_par) + np.cos(theta2_par)))**2\n",
    "    r2 = r2_per\n",
    "    r2_t = r2_per_t\n",
    "    r_err = r2_per_err\n",
    "    chi_sqr = np.sum(((r2-r2_t)/r_err)**2)\n",
    "    deg = len(r2) - 1# there is only one fit parameter in Fresnel equations, n\n",
    "    print(f'n: {n_p}\\tChi-s: {chi_sqr:0.2f}\\tP: {chi2.sf(chi_sqr,deg):0.2e}')    "
   ]
  },
  {
   "cell_type": "markdown",
   "metadata": {},
   "source": [
    "# 4.ii\n",
    "Lowest $\\chi^2 = 69.28$ when n = 1.51 and $P(\\chi^2) = 6.00 * 10^{-9}$.\n",
    "<p>With such a low $P(\\chi^2)$, we would reject the hypothesis that the Fresnel relation can explain the data for $R_\\perp^2$.\n",
    "<p>Now try both $R_\\parallel^2$ and $R_\\perp^2$ together:"
   ]
  },
  {
   "cell_type": "code",
   "execution_count": 343,
   "metadata": {},
   "outputs": [
    {
     "name": "stdout",
     "output_type": "stream",
     "text": [
      "n: 1.4\tChi-s: 1074.38\tP: 2.57e-208\n",
      "n: 1.41\tChi-s: 896.88\tP: 8.64e-171\n",
      "n: 1.42\tChi-s: 736.73\tP: 4.01e-137\n",
      "n: 1.43\tChi-s: 594.14\tP: 2.27e-107\n",
      "n: 1.44\tChi-s: 469.29\tP: 1.38e-81\n",
      "n: 1.45\tChi-s: 362.36\tP: 8.10e-60\n",
      "n: 1.46\tChi-s: 273.49\tP: 4.24e-42\n",
      "n: 1.47\tChi-s: 202.86\tP: 1.97e-28\n",
      "n: 1.48\tChi-s: 150.58\tP: 9.68e-19\n",
      "n: 1.49\tChi-s: 116.80\tP: 8.18e-13\n",
      "n: 1.5\tChi-s: 101.63\tP: 2.75e-10\n",
      "n: 1.51\tChi-s: 105.18\tP: 7.20e-11\n",
      "n: 1.52\tChi-s: 127.55\tP: 1.16e-14\n",
      "n: 1.53\tChi-s: 168.84\tP: 4.56e-22\n",
      "n: 1.54\tChi-s: 229.11\tP: 1.88e-33\n",
      "n: 1.55\tChi-s: 308.44\tP: 5.16e-49\n",
      "n: 1.56\tChi-s: 406.90\tP: 7.70e-69\n",
      "n: 1.57\tChi-s: 524.55\tP: 5.86e-93\n",
      "n: 1.58\tChi-s: 661.42\tP: 2.24e-121\n",
      "n: 1.59\tChi-s: 817.57\tP: 4.33e-154\n",
      "n: 1.6\tChi-s: 993.02\tP: 4.30e-191\n"
     ]
    }
   ],
   "source": [
    "# Now for both\n",
    "n_array = np.linspace(1.4,1.6,21)#1.40 to 1.60 in steps of 0.01\n",
    "for n_p in n_array:\n",
    "    theta2_per = np.arcsin(np.sin(theta1_per)/n_p)\n",
    "    theta2_par = np.arcsin(np.sin(theta1_par)/n_p)\n",
    "    r2_per_t = ((np.cos(theta1_per) - n_p * np.cos(theta2_per)) / \\\n",
    "                (np.cos(theta1_per) + n_p * np.cos(theta2_per)))**2\n",
    "    r2_par_t = ((n_p* np.cos(theta1_par) - np.cos(theta2_par)) / \\\n",
    "                (n_p* np.cos(theta1_par) + np.cos(theta2_par)))**2\n",
    "    r2 = np.concatenate((r2_per, r2_par))\n",
    "    r2_t = np.concatenate((r2_per_t, r2_par_t))\n",
    "    r_err = np.concatenate((r2_per_err, r2_par_err))\n",
    "    chi_sqr = np.sum(((r2-r2_t)/r_err)**2)\n",
    "    deg = len(r2) - 1# there is only one fit parameter in Fresnel equations, n\n",
    "    print(f'n: {n_p}\\tChi-s: {chi_sqr:0.2f}\\tP: {chi2.sf(chi_sqr,deg):0.2e}')    "
   ]
  },
  {
   "cell_type": "markdown",
   "metadata": {
    "id": "j9cCusA-fF4S"
   },
   "source": [
    "# 4.ii\n",
    "Lowest $\\chi^2 = 101.63$ when n = 1.50 and $P(\\chi^2) = 2.75 * 10^{-10}$.\n",
    "<p>With such a low $P(\\chi^2)$, we would reject the hypothesis that the Fresnel relation can explain the data for both.\n",
    "<p>This is caused by the poor fit for $R_\\perp^2$. So for example, the minimum of $\\chi^2 = 101.63$ is just the sum of the $\\chi^2$ values for $R_\\perp^2$ and $R_\\parallel^2$ at n = 1.50."
   ]
  },
  {
   "cell_type": "markdown",
   "metadata": {},
   "source": [
    "# 4.iii\n",
    "The data suggest that only $R_\\parallel^2$ is described well by its Fresnel relation. Good fits for the data were found in the range of n = 1.44 to 1.49, the lowest value of $\\chi^2 = 1.87$ when n = 1.46.\n",
    "<p>This suggests that the Brewster angle was indeed crudely measured, as this predicted a value of n =1.54. On the other hand, the low theta relationship predicted n = 1.48.\n",
    "<p>Neither $R_\\perp^2$ or the two statistics combined are well explained by the Fresnel relations, although they do have their $\\chi^2$ minima at similar levels, n = 1.51 and n = 1.50 respectively.\n",
    "<p>Perhaps, reflections don't just occur only at the surface but may occur inside the perspex. This could cause interference and make the Fresnel relations less valid. Perhaps, this is particularly the case for perpendicular polarizations. They may be more prone to interior reflection due to how they interact with the internal layers within the perspex. "
   ]
  },
  {
   "cell_type": "code",
   "execution_count": null,
   "metadata": {},
   "outputs": [],
   "source": []
  }
 ],
 "metadata": {
  "colab": {
   "name": "DataAnalysis.ipynb",
   "provenance": []
  },
  "kernelspec": {
   "display_name": "Python 3",
   "language": "python",
   "name": "python3"
  },
  "language_info": {
   "codemirror_mode": {
    "name": "ipython",
    "version": 3
   },
   "file_extension": ".py",
   "mimetype": "text/x-python",
   "name": "python",
   "nbconvert_exporter": "python",
   "pygments_lexer": "ipython3",
   "version": "3.7.6"
  }
 },
 "nbformat": 4,
 "nbformat_minor": 1
}
